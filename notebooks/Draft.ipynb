{
 "cells": [
  {
   "cell_type": "markdown",
   "metadata": {},
   "source": [
    "# Анализ данных при помощи  Python\n",
    "В данной главе мы рассмотрим применение языка Python для анализа данных. Поскольку в рамка методички трудно сделать полноценное изложение, поэтому следует обратить внимание на следующие вещи:\n",
    "* Синтаксис излагается метод предъявляения - синтаксис python достаточно прост поэтому его описание опускается в тексте, однако дается в комментариях к коду\n",
    "\n",
    "* При изложении сложных понятий описываются только существенные в рамках данной методички вещи, либо вещи не понимание которых может привести к ошибкам\n",
    "\n",
    "* Часть материала направлена на ликвидацию пробелов возникших в следствии устаревание или неэфетивности программ информатики в школах (в том числе физтех-школах и особенно на ФПФЭ)\n"
   ]
  },
  {
   "cell_type": "code",
   "execution_count": null,
   "metadata": {},
   "outputs": [],
   "source": []
  },
  {
   "cell_type": "markdown",
   "metadata": {},
   "source": [
    "## Conda\n",
    "\n",
    "### Установка дистрибутива Anaconda\n",
    "\n",
    "### Создание окружения\n",
    "Дополнительный раздел\n",
    "\n",
    "### Установка пакетов\n",
    "Дополнительный раздел\n"
   ]
  },
  {
   "cell_type": "markdown",
   "metadata": {},
   "source": [
    "## Введение в Python\n",
    "\n",
    "\n",
    "### Hello World!"
   ]
  },
  {
   "cell_type": "code",
   "execution_count": 14,
   "metadata": {},
   "outputs": [
    {
     "name": "stdout",
     "output_type": "stream",
     "text": [
      "Hello World!\n"
     ]
    }
   ],
   "source": [
    "print(\"Hello World!\")"
   ]
  },
  {
   "cell_type": "markdown",
   "metadata": {},
   "source": [
    "### Объявление переменных и функций"
   ]
  },
  {
   "cell_type": "code",
   "execution_count": 2,
   "metadata": {},
   "outputs": [],
   "source": [
    "a = 1"
   ]
  },
  {
   "cell_type": "code",
   "execution_count": 3,
   "metadata": {},
   "outputs": [
    {
     "name": "stdout",
     "output_type": "stream",
     "text": [
      "1\n"
     ]
    }
   ],
   "source": [
    "print(a)"
   ]
  },
  {
   "cell_type": "code",
   "execution_count": 4,
   "metadata": {},
   "outputs": [],
   "source": [
    "a = \"Строка\""
   ]
  },
  {
   "cell_type": "code",
   "execution_count": 5,
   "metadata": {},
   "outputs": [
    {
     "name": "stdout",
     "output_type": "stream",
     "text": [
      "Строка\n"
     ]
    }
   ],
   "source": [
    "print(a)"
   ]
  },
  {
   "cell_type": "code",
   "execution_count": 7,
   "metadata": {},
   "outputs": [],
   "source": [
    "def to_Fahrenheit_degree(celsius_degree):\n",
    "    \"\"\"\n",
    "    Эта функцию принимает температуру в градусах Цельсия и переводит её в градусы Фаренгейта\n",
    "    Пригодится при работе с имперским оборудованием\n",
    "    \"\"\"\n",
    "    return (9/5)*celsius_degree + 32"
   ]
  },
  {
   "cell_type": "code",
   "execution_count": null,
   "metadata": {},
   "outputs": [],
   "source": [
    "data = [10,20,30] # Результаты измерений в градусах Цельсия\n",
    "for element in data: # Так называемы цикл for-each  - в переменную element по очередно записываются элементы набора data\n",
    "    print(element, \"градусов Цельсия это\" , to_Fahrenheit_degree(element), \"градусов Фаренгейта\")"
   ]
  },
  {
   "cell_type": "markdown",
   "metadata": {},
   "source": [
    "Обратите внимание что входным типом данных были целые числа, а выходным чилса с плавающей точкой"
   ]
  },
  {
   "cell_type": "code",
   "execution_count": 11,
   "metadata": {},
   "outputs": [
    {
     "name": "stdout",
     "output_type": "stream",
     "text": [
      "Help on function to_Fahrenheit_degree in module __main__:\n",
      "\n",
      "to_Fahrenheit_degree(celsius_degree)\n",
      "    Эта функцию принимает температуру в граудсах Цельсия и переводит её в градусы Фаренгейта\n",
      "\n"
     ]
    }
   ],
   "source": [
    "help(to_Fahrenheit_degree)"
   ]
  },
  {
   "cell_type": "markdown",
   "metadata": {},
   "source": [
    "### Подключение дополнительных билиотек"
   ]
  },
  {
   "cell_type": "code",
   "execution_count": 13,
   "metadata": {},
   "outputs": [],
   "source": [
    "import math"
   ]
  },
  {
   "cell_type": "code",
   "execution_count": 14,
   "metadata": {},
   "outputs": [
    {
     "data": {
      "text/plain": [
       "1.0"
      ]
     },
     "execution_count": 14,
     "metadata": {},
     "output_type": "execute_result"
    }
   ],
   "source": [
    "math.log(math.e) "
   ]
  },
  {
   "cell_type": "code",
   "execution_count": 17,
   "metadata": {},
   "outputs": [
    {
     "data": {
      "text/plain": [
       "2.9999999999999996"
      ]
     },
     "execution_count": 17,
     "metadata": {},
     "output_type": "execute_result"
    }
   ],
   "source": [
    "math.log(1000, 10) # Кто не прогуливал лекции по информатике, тот сможет объяснить почему результат оказался не равным 3.0"
   ]
  },
  {
   "cell_type": "code",
   "execution_count": 18,
   "metadata": {},
   "outputs": [
    {
     "data": {
      "text/plain": [
       "['__doc__', '__file__', '__loader__', '__name__', '__package__', '__spec__', 'acos', 'acosh', 'asin', 'asinh', 'atan', 'atan2', 'atanh', 'ceil', 'copysign', 'cos', 'cosh', 'degrees', 'e', 'erf', 'erfc', 'exp', 'expm1', 'fabs', 'factorial', 'floor', 'fmod', 'frexp', 'fsum', 'gamma', 'gcd', 'hypot', 'inf', 'isclose', 'isfinite', 'isinf', 'isnan', 'ldexp', 'lgamma', 'log', 'log10', 'log1p', 'log2', 'modf', 'nan', 'pi', 'pow', 'radians', 'sin', 'sinh', 'sqrt', 'tan', 'tanh', 'tau', 'trunc']"
      ]
     },
     "execution_count": 18,
     "metadata": {},
     "output_type": "execute_result"
    }
   ],
   "source": [
    "dir(math)"
   ]
  },
  {
   "cell_type": "code",
   "execution_count": 15,
   "metadata": {},
   "outputs": [],
   "source": [
    "from math import cos"
   ]
  },
  {
   "cell_type": "code",
   "execution_count": 16,
   "metadata": {},
   "outputs": [
    {
     "data": {
      "text/plain": [
       "-0.9999987317275395"
      ]
     },
     "execution_count": 16,
     "metadata": {},
     "output_type": "execute_result"
    }
   ],
   "source": [
    "cos(3.14)"
   ]
  },
  {
   "cell_type": "code",
   "execution_count": 17,
   "metadata": {},
   "outputs": [],
   "source": [
    "import math as m"
   ]
  },
  {
   "cell_type": "code",
   "execution_count": 18,
   "metadata": {},
   "outputs": [
    {
     "data": {
      "text/plain": [
       "1.2246467991473532e-16"
      ]
     },
     "execution_count": 18,
     "metadata": {},
     "output_type": "execute_result"
    }
   ],
   "source": [
    "m.sin(m.pi) # Очень близко, но из=за конечной точности все же не ноль"
   ]
  },
  {
   "cell_type": "code",
   "execution_count": 19,
   "metadata": {},
   "outputs": [],
   "source": [
    "# Самый плохой вариант - импортирует все имена из билиотеки, \n",
    "#при этом возмозможно перекрытие имен\n",
    "from math import *"
   ]
  },
  {
   "cell_type": "code",
   "execution_count": 20,
   "metadata": {},
   "outputs": [
    {
     "data": {
      "text/plain": [
       "-1.0"
      ]
     },
     "execution_count": 20,
     "metadata": {},
     "output_type": "execute_result"
    }
   ],
   "source": [
    "cos(pi)"
   ]
  },
  {
   "cell_type": "code",
   "execution_count": 21,
   "metadata": {},
   "outputs": [],
   "source": [
    "pi = 4 # Согласно приказу Минобрнауки значение числа пи принять равным 4"
   ]
  },
  {
   "cell_type": "code",
   "execution_count": 22,
   "metadata": {},
   "outputs": [
    {
     "data": {
      "text/plain": [
       "-0.6536436208636119"
      ]
     },
     "execution_count": 22,
     "metadata": {},
     "output_type": "execute_result"
    }
   ],
   "source": [
    "cos(pi)"
   ]
  },
  {
   "cell_type": "markdown",
   "metadata": {},
   "source": [
    "Поскольку поиск подобных ошибок затруднен использование синтаксиса `from module import *`  крайне не желательно."
   ]
  },
  {
   "cell_type": "code",
   "execution_count": 12,
   "metadata": {},
   "outputs": [
    {
     "ename": "NameError",
     "evalue": "name 'math' is not defined",
     "output_type": "error",
     "traceback": [
      "\u001b[0;31m---------------------------------------------------------------------------\u001b[0m",
      "\u001b[0;31mNameError\u001b[0m                                 Traceback (most recent call last)",
      "\u001b[0;32m<ipython-input-12-dba301b0095e>\u001b[0m in \u001b[0;36m<module>\u001b[0;34m()\u001b[0m\n\u001b[0;32m----> 1\u001b[0;31m \u001b[0mdir\u001b[0m\u001b[0;34m(\u001b[0m\u001b[0mmath\u001b[0m\u001b[0;34m)\u001b[0m\u001b[0;34m\u001b[0m\u001b[0m\n\u001b[0m",
      "\u001b[0;31mNameError\u001b[0m: name 'math' is not defined"
     ]
    }
   ],
   "source": [
    "dir(math)"
   ]
  },
  {
   "cell_type": "markdown",
   "metadata": {},
   "source": [
    "### Парадигмы програмирования\n",
    "\n",
    "Данный раздел предназначен для тех кто имеел опыт работы только с процедурными языками наподобие Fortranб Pascal и С. Данная тема выходит далеко запределы данного руководства, поэтому материал будет данные в минимальном объеме необъходимом для работы с остальными материалами методички. В отличии от Fortran или С которые поддерживают только парадигму процедурного программирования Python позволяет писать код также в объектно-ориентированном и функциональном стилях.\n",
    "Давайте разберем как это влияет на нас\n",
    "\n",
    "#### Объектно-ориентированное программировние (ООП)\n",
    "ООП основанное на использовании специальных типов - классов, которые объеденяют данные и способы работы с ними. \n",
    "\n",
    "Рассмотрим несколько примеров:\n",
    " В языке Pascal вы можете создать переменную типа string и например передать её  в функцию ToUpperCase:\n",
    " ```pascal\n",
    "    var := 'AaBb'\n",
    "    toUpperCase(var)\n",
    "    // Теперь var содержит строку 'AABB'\n",
    " ```\n",
    " Но приведение к верхнему регистру это операция характерная для строк, бессмысленно пытаться приводить целое число к нему. Поэтому ООП предлагает превратить функцию ToUpperCase в _метод_ класса, иначе говоря в функцию-член класса.\n",
    " Рассмотрим пример:"
   ]
  },
  {
   "cell_type": "code",
   "execution_count": 20,
   "metadata": {},
   "outputs": [
    {
     "data": {
      "text/plain": [
       "<class 'str'>"
      ]
     },
     "execution_count": 20,
     "metadata": {},
     "output_type": "execute_result"
    }
   ],
   "source": [
    "a = \"AaBb\"\n",
    "type(a)\n"
   ]
  },
  {
   "cell_type": "markdown",
   "metadata": {},
   "source": [
    "В переменную `a` мы сохранили строку \"AaBb\", которая явлется экземпляром (объектом) класса  `str`. Теперь мы можем вызвать у переменной `a` один из методов класса `str`."
   ]
  },
  {
   "cell_type": "code",
   "execution_count": 22,
   "metadata": {},
   "outputs": [
    {
     "data": {
      "text/plain": [
       "'AABB'"
      ]
     },
     "execution_count": 22,
     "metadata": {},
     "output_type": "execute_result"
    }
   ],
   "source": [
    "a.upper()"
   ]
  },
  {
   "cell_type": "code",
   "execution_count": 23,
   "metadata": {},
   "outputs": [
    {
     "data": {
      "text/plain": [
       "1"
      ]
     },
     "execution_count": 23,
     "metadata": {},
     "output_type": "execute_result"
    }
   ],
   "source": [
    "# Метод может принимать аргументы (на самом деле любой метод принмает как минимум один аргумент подробнее [здесь]())\n",
    "# Например посчитаем сколько раз буква A входит в строку\n",
    "a.count('A')"
   ]
  },
  {
   "cell_type": "markdown",
   "metadata": {},
   "source": [
    "#### Inplace - операции\n",
    "Операции проводимые _in place_ производятся непосредвенно с объектом вызвашим эту операцию. Сравним два примера."
   ]
  },
  {
   "cell_type": "code",
   "execution_count": 56,
   "metadata": {},
   "outputs": [
    {
     "name": "stdout",
     "output_type": "stream",
     "text": [
      "[1, 2, 3]\n"
     ]
    }
   ],
   "source": [
    "data = [ 1,3,2]\n",
    "data.sort()\n",
    "print(data)"
   ]
  },
  {
   "cell_type": "code",
   "execution_count": 57,
   "metadata": {},
   "outputs": [
    {
     "name": "stdout",
     "output_type": "stream",
     "text": [
      "[1, 3, 2]\n"
     ]
    }
   ],
   "source": [
    "data = [ 1,3,2]\n",
    "res = sorted(data)\n",
    "print(data)"
   ]
  },
  {
   "cell_type": "markdown",
   "metadata": {},
   "source": [
    "В первм примере вызов метода sort отсортировал список data, во втором примере функция sorted создала новый  отсртированный список оставив порядок элементов в data неизменным "
   ]
  },
  {
   "cell_type": "markdown",
   "metadata": {},
   "source": [
    "#### Пользовательские типы (Дополнительный материал)\n",
    "Однако мы можем использовать не только классы изначально сушествующие в языке, но и создавать свои!"
   ]
  },
  {
   "cell_type": "code",
   "execution_count": 45,
   "metadata": {},
   "outputs": [],
   "source": [
    "class VelocityVector2D:\n",
    "    \"\"\"\n",
    "    Класс описывающий двумерный вектор скорости\n",
    "    \"\"\"\n",
    "    units = \"м/c\"\n",
    "    \n",
    "    def __init__(self, x, y):\n",
    "        \"\"\"\n",
    "        Значение переменных x,y считается данным в м\\с\n",
    "        \"\"\"\n",
    "        self.x = x\n",
    "        self.y = y\n",
    "    def module(self, system_of_units = \"SI\"):\n",
    "        \"\"\"\n",
    "        Модуль вектора скорости\n",
    "        Аргумент system_of_units может принимать значения \"SI\" и \"SGS\"\n",
    "        \"\"\"\n",
    "        module = (self.x**2 + self.y**2)**0.5\n",
    "        if system_of_units==\"SI\":\n",
    "            return module\n",
    "        elif system_of_units==\"SGS\":\n",
    "            return module*10 # Перевели из СИ в СГС\n",
    "        else:\n",
    "            raise Exception('Незнакомая система единиц')\n",
    "    def __add__(self, another_vector):\n",
    "        \"\"\"\n",
    "        Позволяет складывать два вектора с помощью оператора +\n",
    "        \"\"\"\n",
    "        return VelocityVector2D(self.x + another_vector.x, self.y + another_vector.y)\n",
    "    def __repr__(self):\n",
    "        return \"Vx = {0} {2}, Vy = {1} {2}\".format(self.x, self.y , self.units)\n",
    "    \n",
    "        "
   ]
  },
  {
   "cell_type": "code",
   "execution_count": 46,
   "metadata": {},
   "outputs": [],
   "source": [
    "v1 = VelocityVector2D(3,4)"
   ]
  },
  {
   "cell_type": "code",
   "execution_count": 51,
   "metadata": {},
   "outputs": [
    {
     "data": {
      "text/plain": [
       "3"
      ]
     },
     "execution_count": 51,
     "metadata": {},
     "output_type": "execute_result"
    }
   ],
   "source": [
    "v1.x"
   ]
  },
  {
   "cell_type": "code",
   "execution_count": 48,
   "metadata": {},
   "outputs": [
    {
     "data": {
      "text/plain": [
       "5.0"
      ]
     },
     "execution_count": 48,
     "metadata": {},
     "output_type": "execute_result"
    }
   ],
   "source": [
    "v1.module()"
   ]
  },
  {
   "cell_type": "code",
   "execution_count": 49,
   "metadata": {},
   "outputs": [
    {
     "name": "stdout",
     "output_type": "stream",
     "text": [
      "Модуль скорости равен 5.0\n"
     ]
    }
   ],
   "source": [
    "print(\"Модуль скорости равен {}\".format(v1.module()))"
   ]
  },
  {
   "cell_type": "code",
   "execution_count": 50,
   "metadata": {},
   "outputs": [
    {
     "data": {
      "text/plain": [
       "Vx = 0 м/c, Vy = 0 м/c"
      ]
     },
     "execution_count": 50,
     "metadata": {},
     "output_type": "execute_result"
    }
   ],
   "source": [
    "v_rel = v1 + VelocityVector2D(-3,-4)\n",
    "print(v_rel)"
   ]
  },
  {
   "cell_type": "markdown",
   "metadata": {},
   "source": [
    "Поясним на примере, в языке C числа с плавающими точками являетсю примитивными типами, вы можете передавать их как аргументы функции. У меня может быть "
   ]
  },
  {
   "cell_type": "code",
   "execution_count": 5,
   "metadata": {},
   "outputs": [],
   "source": [
    "a = 0.5"
   ]
  },
  {
   "cell_type": "code",
   "execution_count": 6,
   "metadata": {},
   "outputs": [
    {
     "data": {
      "text/plain": [
       "(1, 2)"
      ]
     },
     "execution_count": 6,
     "metadata": {},
     "output_type": "execute_result"
    }
   ],
   "source": [
    "a.as_integer_ratio()"
   ]
  },
  {
   "cell_type": "markdown",
   "metadata": {},
   "source": [
    "#### Функциональное программирование (ФП)\n",
    "Одной из основ ФП является передача функции _в качестве аргумента для другой функции_. Для пример реализуем функцию которая будет вычислять интеграл от произвольной функции."
   ]
  },
  {
   "cell_type": "code",
   "execution_count": 27,
   "metadata": {},
   "outputs": [],
   "source": [
    "def riman_integral(function, left_boundary = 0, rigth_boundary = 1, number_points = 200):\n",
    "    \"\"\"\n",
    "    Вычисляем интеграл методом прямоугольников.\n",
    "    Это определенно не самый лучший способ численного интегрирования,\n",
    "    но самый простой и для функций без особенностей дает приемлимую точность.\n",
    "    Отметим что реализация данной функции основанно на чистом Python\n",
    "    и поэтому не является оптимальной по производительности.\n",
    "    О высокопроизводительных вычисления смотри раздел Numpy и Scipy\n",
    "    \"\"\"\n",
    "    a,b = left_boundary, rigth_boundary\n",
    "    dx = (b-a)/(number_points-1) # Интервалов на один меньше чем точек\n",
    "    res = function(a)\n",
    "    for i in range(1, number_points-1):\n",
    "        res += function(a +i*dx)\n",
    "    res+=function(b)\n",
    "    return res*dx\n",
    "    "
   ]
  },
  {
   "cell_type": "code",
   "execution_count": 28,
   "metadata": {},
   "outputs": [],
   "source": [
    "from math import cos, pi"
   ]
  },
  {
   "cell_type": "code",
   "execution_count": 31,
   "metadata": {},
   "outputs": [
    {
     "data": {
      "text/plain": [
       "1.003941532222525"
      ]
     },
     "execution_count": 31,
     "metadata": {},
     "output_type": "execute_result"
    }
   ],
   "source": [
    "# В качестве аргумента мы передаем функцию cos от которой вычисляем интеграл\n",
    "riman_integral(cos, 0, pi/2) # Вопрос на засыпку, верен ли результат?"
   ]
  },
  {
   "cell_type": "markdown",
   "metadata": {},
   "source": [
    "Другим пример функционального стиля, является использование _аномнимных функций_. Рассмотрим на примере такой задачи: дан набор скоростей, нужно получить набор отсортированный по модулю скорости."
   ]
  },
  {
   "cell_type": "code",
   "execution_count": 54,
   "metadata": {},
   "outputs": [
    {
     "name": "stdout",
     "output_type": "stream",
     "text": [
      "Текущий порядок\n",
      "Vx = 0 м/c, Vy = 0 м/c\n",
      "Vx = 1 м/c, Vy = 1 м/c\n",
      "Vx = 0.1 м/c, Vy = 0.5 м/c\n"
     ]
    }
   ],
   "source": [
    "data = [VelocityVector2D(0,0),\n",
    "       VelocityVector2D(1,1),\n",
    "       VelocityVector2D(0.1,0.5)]\n",
    "print(\"Текущий порядок\")\n",
    "for element in data:\n",
    "    print(element)"
   ]
  },
  {
   "cell_type": "code",
   "execution_count": 55,
   "metadata": {},
   "outputs": [
    {
     "name": "stdout",
     "output_type": "stream",
     "text": [
      "Порядок после сортировки\n",
      "Vx = 0 м/c, Vy = 0 м/c\n",
      "Vx = 0.1 м/c, Vy = 0.5 м/c\n",
      "Vx = 1 м/c, Vy = 1 м/c\n"
     ]
    }
   ],
   "source": [
    "result = sorted(data, # Входные данные\n",
    "                key = lambda velocity : velocity.module() # Функция принимающая в качестве аргумента элемент из data\n",
    "                                                          # и определяющая порядок сортировки\n",
    "               )\n",
    "print(\"Порядок после сортировки\")\n",
    "for element in result:\n",
    "    print(element)"
   ]
  },
  {
   "cell_type": "markdown",
   "metadata": {},
   "source": [
    "## NumPy и Scipy"
   ]
  },
  {
   "cell_type": "code",
   "execution_count": null,
   "metadata": {},
   "outputs": [],
   "source": []
  },
  {
   "cell_type": "markdown",
   "metadata": {},
   "source": [
    "## Чтение и вывод данных"
   ]
  },
  {
   "cell_type": "code",
   "execution_count": null,
   "metadata": {},
   "outputs": [],
   "source": []
  },
  {
   "cell_type": "markdown",
   "metadata": {},
   "source": [
    "## Создание и оформление графиков с помощью matplotlib"
   ]
  },
  {
   "cell_type": "code",
   "execution_count": null,
   "metadata": {},
   "outputs": [],
   "source": []
  },
  {
   "cell_type": "markdown",
   "metadata": {},
   "source": [
    "## Создание и оформление графиков с помощью plottly\n",
    "Дополнительный раздел (скорее всего в отдельной методичке)"
   ]
  },
  {
   "cell_type": "code",
   "execution_count": null,
   "metadata": {},
   "outputs": [],
   "source": []
  },
  {
   "cell_type": "code",
   "execution_count": null,
   "metadata": {},
   "outputs": [],
   "source": []
  },
  {
   "cell_type": "markdown",
   "metadata": {},
   "source": [
    "## Примеры\n",
    "\n",
    "### Гистограммы и распределения\n",
    "\n",
    "### Закон больших чисел\n",
    "\n",
    "### Анализ корелляций\n",
    "\n",
    "### $\\chi^2$-критерий\n",
    "\n",
    "### Метод наибольшего правдободобия\n",
    "\n",
    "### МНК\n"
   ]
  },
  {
   "cell_type": "code",
   "execution_count": null,
   "metadata": {},
   "outputs": [],
   "source": []
  },
  {
   "cell_type": "code",
   "execution_count": null,
   "metadata": {},
   "outputs": [],
   "source": []
  },
  {
   "cell_type": "code",
   "execution_count": null,
   "metadata": {},
   "outputs": [],
   "source": []
  },
  {
   "cell_type": "code",
   "execution_count": null,
   "metadata": {},
   "outputs": [],
   "source": []
  }
 ],
 "metadata": {
  "kernelspec": {
   "display_name": "Python 3",
   "language": "python",
   "name": "python3"
  },
  "language_info": {
   "codemirror_mode": {
    "name": "ipython",
    "version": 3
   },
   "file_extension": ".py",
   "mimetype": "text/x-python",
   "name": "python",
   "nbconvert_exporter": "python",
   "pygments_lexer": "ipython3",
   "version": "3.6.5"
  },
  "toc": {
   "base_numbering": 1,
   "nav_menu": {},
   "number_sections": false,
   "sideBar": false,
   "skip_h1_title": false,
   "title_cell": "Table of Contents",
   "title_sidebar": "Contents",
   "toc_cell": false,
   "toc_position": {},
   "toc_section_display": false,
   "toc_window_display": false
  }
 },
 "nbformat": 4,
 "nbformat_minor": 2
}
