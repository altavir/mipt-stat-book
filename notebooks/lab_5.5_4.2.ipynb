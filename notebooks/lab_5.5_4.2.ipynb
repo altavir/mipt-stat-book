{
 "cells": [
  {
   "cell_type": "markdown",
   "metadata": {},
   "source": [
    "# Дополнительное задание к работе 5.5\n",
    "\n",
    "Данный пункт выполняется вместо пунтка I.6 дополнительного описания работы 5.5\n",
    "Устнановите  перед сцинтилятором образец $^{22}Na$ и проведите измеренией с экспозицией в 10 минут (примерно). Сохраните результат измерения в файл. Сделайте тоже самое для остальных образцов. Сохраните полученнуе результаты на флешку и дома, прочтя приведенную справку, определите положение пиков полного поглощения для измеренных образцов, для этого:\n",
    "    1. Подумайте какими функциями нужно фитировать форму пика и фоновую подложку, какие параметры выбранных вами функций отвечают за положение и ширину пика?\n",
    "        \n",
    "    2. Реализуйте функцию, аналогично примеру\n",
    "    \n",
    "    3. Определите диапазон экспериментальных точек на котором вы будете проводить фитирорвание, изменяя этот диапазон можно добиваться улучшения или ухудшения качетсва фита.\n",
    "    \n",
    "    4. Профитируйте данные с помощью функции `curve_fit`\n",
    "    \n",
    "    5. Полученные значения положения пика и его ширины используйте в пунтке II описания работы 5.5\n",
    "\n",
    "\n",
    "# Справочные материалы к работам 5.5, 5.3, 5.1a\n",
    "\n",
    "\n",
    "## Фитирование\n",
    "Пусть есть набор экспериментальных точек $(x_i, y_i)$ (полученных ествесвенно с некоторой погрешностью) и есть некоторая функция $F(x,\\theta)$, которая предположительно описывает нашу экспериментальную зависимость при некотором $\\hat{\\theta}$. Процедура поиска значения параметра или набора параметров $\\theta^*$ котором функция $(x,\\theta)$ наилучшим образом описывает экспериментальные точки называется фитированием.\n",
    "\n",
    "Фитирование важная процедура и многие математический библиотеки имеют функции для проведения этой операции\n",
    "\n",
    "\n",
    "## Определение положения пика\n",
    "\n",
    "Фитирование может применятся для определения положения пика. В качетсве примера можно привести график иллюстрирующий открытие бозона Хиггса: \n",
    "![](./example_fit.jpg)\n",
    "Красной линией на верхнем графике показан результат фитирования экпериментальных данных с помощью суммы двух функций: одной описывающей фоновую подложку, другой форму пика.\n",
    "Проведя процедуру фитирования можно получить точное положения максиму пика и его ширину. Похожая задача предстоит нам и работах 5.5, 4.2\n",
    "\n",
    "\n",
    "\n",
    "## Пример\n",
    "\n",
    "Пусть есть истиная функция $y = x^2 - x + 1$, и результат измерения этой зависимости (файл `example_fit.dat`). Предположим нам из каких то теоретических предположений известно что зависимость должна быть параболической и мы пытаемся восстановит параметры этой параболы. Для этого мы воспользуемся функцией `curve_fit` из модуля `scipy.optimize`"
   ]
  },
  {
   "cell_type": "code",
   "execution_count": 8,
   "metadata": {},
   "outputs": [],
   "source": [
    "# Импротируем необходимые функции\n",
    "import numpy as np # работа с массивами и линейной алгеброй\n",
    "import matplotlib.pyplot as plt # для отрисовки графиков\n",
    "import pandas as pd # для чтения и работы с данными\n",
    "from scipy.optimize import curve_fit # фитирующая процедура\n",
    "\n"
   ]
  },
  {
   "cell_type": "code",
   "execution_count": 38,
   "metadata": {},
   "outputs": [],
   "source": [
    "# Так были сгенерированны данные\n",
    "# from tabulate import tabulate\n",
    "# n = 15\n",
    "# x = np.linspace(0, 1, n)\n",
    "# y_true = x**2 - x + 1\n",
    "# error = y_true*0.1*np.random.sample(n)\n",
    "# y = np.random.normal(y_true, error)\n",
    "# with open('example_fit.txt', 'w') as fout:\n",
    "#     text = tabulate(zip(x,y, error), headers = ('x', 'y', 'y_error'), tablefmt='plain')\n",
    "#     fout.write(text)"
   ]
  },
  {
   "cell_type": "code",
   "execution_count": 44,
   "metadata": {},
   "outputs": [],
   "source": [
    "data = pd.read_table('example_fit.txt', # имя или путь к файлу    \n",
    "                    sep = '\\s+' # Здесь указывается разделитель между значениями испольхуемый в файле\n",
    "                    )"
   ]
  },
  {
   "cell_type": "code",
   "execution_count": 45,
   "metadata": {},
   "outputs": [],
   "source": [
    "# Создадим переменные с короткими именами\n",
    "x = data['x']\n",
    "y = data['y']\n",
    "yerr = data['y_error']"
   ]
  },
  {
   "cell_type": "code",
   "execution_count": 73,
   "metadata": {},
   "outputs": [
    {
     "data": {
      "text/plain": [
       "0.0"
      ]
     },
     "execution_count": 73,
     "metadata": {},
     "output_type": "execute_result"
    }
   ],
   "source": [
    "x[0] # получить одно значение"
   ]
  },
  {
   "cell_type": "code",
   "execution_count": 75,
   "metadata": {},
   "outputs": [
    {
     "data": {
      "text/plain": [
       "5    0.357143\n",
       "6    0.428571\n",
       "7    0.500000\n",
       "8    0.571429\n",
       "9    0.642857\n",
       "Name: x, dtype: float64"
      ]
     },
     "execution_count": 75,
     "metadata": {},
     "output_type": "execute_result"
    }
   ],
   "source": [
    "x[5:10] # выбрать диапазон значений"
   ]
  },
  {
   "cell_type": "code",
   "execution_count": 41,
   "metadata": {},
   "outputs": [],
   "source": [
    "def parabolla(x, a, b, c):\n",
    "    \"\"\"\n",
    "    Параметрическая парабола\n",
    "    \"\"\"\n",
    "    return a*x**2 + b*x + c"
   ]
  },
  {
   "cell_type": "code",
   "execution_count": 68,
   "metadata": {},
   "outputs": [],
   "source": [
    "result = curve_fit(f = parabolla, # функция для которой ищутся параметры\n",
    "                   xdata= x, ydata=y, # вводим точки, так же мы могли вести \n",
    "          )"
   ]
  },
  {
   "cell_type": "markdown",
   "metadata": {},
   "source": [
    "Функция `curve_fit`  имеет большой список параметров, например кроме экспериментальных точек можно указать их ошибки, и тогда будет применен алгоритм фитирования учитывающий величины ошибок, так же можно указать начальну точку для поиска значение параметров и многое другое."
   ]
  },
  {
   "cell_type": "code",
   "execution_count": 69,
   "metadata": {},
   "outputs": [
    {
     "data": {
      "text/plain": [
       "(array([ 0.9501661 , -1.03201227,  1.04199594]),\n",
       " array([[ 0.02177803, -0.02177803,  0.00337041],\n",
       "        [-0.02177803,  0.02341508, -0.00418894],\n",
       "        [ 0.00337041, -0.00418894,  0.00108678]]))"
      ]
     },
     "execution_count": 69,
     "metadata": {},
     "output_type": "execute_result"
    }
   ],
   "source": [
    "result # Кортеж из двух массивов: первый это вектор значений параметров, \n",
    "       # второй ковариционная матрица, которая может быть использована для оценки качетсва фита"
   ]
  },
  {
   "cell_type": "code",
   "execution_count": 70,
   "metadata": {},
   "outputs": [],
   "source": [
    "popt, pcov = result # декомпозиция кортежа по отдельным переменным"
   ]
  },
  {
   "cell_type": "code",
   "execution_count": 71,
   "metadata": {},
   "outputs": [],
   "source": [
    "import matplotlib as mpl\n",
    "mpl.rcParams['font.size'] = 16 # Управление стилем, в данном случаем размером шрифта "
   ]
  },
  {
   "cell_type": "code",
   "execution_count": 72,
   "metadata": {},
   "outputs": [
    {
     "data": {
      "image/png": "[encoded data removed]",
      "text/plain": [
       "<Figure size 504x504 with 1 Axes>"
      ]
     },
     "metadata": {},
     "output_type": "display_data"
    }
   ],
   "source": [
    "plt.figure(figsize= (7,7)) # Настраиваем размер холста\n",
    "plt.plot(x, parabolla(x, *popt), label='Результат фитирования') # Строим график\n",
    "plt.errorbar(x,y, yerr=yerr, fmt='.', label='Экспериментальные точки') # Строим график с \"крестами\"\n",
    "plt.plot(x, parabolla(x, 1,-1,1), label=\"Истиная зависимость\")\n",
    "plt.legend(); # Активируем легенду"
   ]
  }
 ],
 "metadata": {
  "kernelspec": {
   "display_name": "Python [default]",
   "language": "python",
   "name": "python3"
  },
  "language_info": {
   "codemirror_mode": {
    "name": "ipython",
    "version": 3
   },
   "file_extension": ".py",
   "mimetype": "text/x-python",
   "name": "python",
   "nbconvert_exporter": "python",
   "pygments_lexer": "ipython3",
   "version": "3.6.4"
  },
  "toc": {
   "base_numbering": 1,
   "nav_menu": {},
   "number_sections": false,
   "sideBar": false,
   "skip_h1_title": false,
   "title_cell": "Table of Contents",
   "title_sidebar": "Contents",
   "toc_cell": false,
   "toc_position": {},
   "toc_section_display": false,
   "toc_window_display": false
  }
 },
 "nbformat": 4,
 "nbformat_minor": 2
}
